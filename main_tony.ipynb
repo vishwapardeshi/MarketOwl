{
 "cells": [
  {
   "cell_type": "code",
   "execution_count": 1,
   "metadata": {},
   "outputs": [],
   "source": [
    "import time\n",
    "import pandas as pd\n",
    "from src.transpipeline import QuestionAnswering"
   ]
  },
  {
   "cell_type": "code",
   "execution_count": 2,
   "metadata": {},
   "outputs": [
    {
     "data": {
      "text/html": [
       "<div>\n",
       "<style scoped>\n",
       "    .dataframe tbody tr th:only-of-type {\n",
       "        vertical-align: middle;\n",
       "    }\n",
       "\n",
       "    .dataframe tbody tr th {\n",
       "        vertical-align: top;\n",
       "    }\n",
       "\n",
       "    .dataframe thead th {\n",
       "        text-align: right;\n",
       "    }\n",
       "</style>\n",
       "<table border=\"1\" class=\"dataframe\">\n",
       "  <thead>\n",
       "    <tr style=\"text-align: right;\">\n",
       "      <th></th>\n",
       "      <th>Title</th>\n",
       "      <th>Date</th>\n",
       "      <th>QA</th>\n",
       "      <th>Ticker</th>\n",
       "      <th>Remarks</th>\n",
       "    </tr>\n",
       "  </thead>\n",
       "  <tbody>\n",
       "    <tr>\n",
       "      <th>0</th>\n",
       "      <td>3M Company (MMM) CEO Michael Roman on Q1 2021 ...</td>\n",
       "      <td>Apr. 27, 2021 5:54 PM ET</td>\n",
       "      <td>\" [Operator Instructions] Our first question c...</td>\n",
       "      <td>MMM</td>\n",
       "      <td>\" Ladies and gentlemen, thank you for standing...</td>\n",
       "    </tr>\n",
       "    <tr>\n",
       "      <th>1</th>\n",
       "      <td>3M Company's (MMM) CEO Mike Roman on Q4 2020 R...</td>\n",
       "      <td>Jan. 26, 2021 5:33 PM ET</td>\n",
       "      <td>\" [Operator Instructions] Our first question c...</td>\n",
       "      <td>MMM</td>\n",
       "      <td>\" Ladies and gentlemen, thank you for standing...</td>\n",
       "    </tr>\n",
       "    <tr>\n",
       "      <th>2</th>\n",
       "      <td>3M Company (MMM) CEO Mike Roman on Q3 2020 Res...</td>\n",
       "      <td>Oct. 27, 2020 3:54 PM ET</td>\n",
       "      <td>\" Thank you. [Operator Instructions] Our first...</td>\n",
       "      <td>MMM</td>\n",
       "      <td>\" Ladies and gentlemen, thank you for standing...</td>\n",
       "    </tr>\n",
       "    <tr>\n",
       "      <th>3</th>\n",
       "      <td>3M (MMM) CEO, Michael Roman on Q2 2020 Results...</td>\n",
       "      <td>Jul. 28, 2020 1:03 PM ET</td>\n",
       "      <td>\" [Operator instructions]  Our first question ...</td>\n",
       "      <td>MMM</td>\n",
       "      <td>\" Ladies and gentlemen, thank you for standing...</td>\n",
       "    </tr>\n",
       "    <tr>\n",
       "      <th>4</th>\n",
       "      <td>3M Company (MMM) CEO Mike Roman on Q1 2020 Res...</td>\n",
       "      <td>Apr. 28, 2020 3:08 PM ET</td>\n",
       "      <td>\" [Operator Instructions] Our first question c...</td>\n",
       "      <td>MMM</td>\n",
       "      <td>\" Ladies and gentlemen, thank you for standing...</td>\n",
       "    </tr>\n",
       "  </tbody>\n",
       "</table>\n",
       "</div>"
      ],
      "text/plain": [
       "                                               Title  \\\n",
       "0  3M Company (MMM) CEO Michael Roman on Q1 2021 ...   \n",
       "1  3M Company's (MMM) CEO Mike Roman on Q4 2020 R...   \n",
       "2  3M Company (MMM) CEO Mike Roman on Q3 2020 Res...   \n",
       "3  3M (MMM) CEO, Michael Roman on Q2 2020 Results...   \n",
       "4  3M Company (MMM) CEO Mike Roman on Q1 2020 Res...   \n",
       "\n",
       "                       Date  \\\n",
       "0  Apr. 27, 2021 5:54 PM ET   \n",
       "1  Jan. 26, 2021 5:33 PM ET   \n",
       "2  Oct. 27, 2020 3:54 PM ET   \n",
       "3  Jul. 28, 2020 1:03 PM ET   \n",
       "4  Apr. 28, 2020 3:08 PM ET   \n",
       "\n",
       "                                                  QA Ticker  \\\n",
       "0  \" [Operator Instructions] Our first question c...    MMM   \n",
       "1  \" [Operator Instructions] Our first question c...    MMM   \n",
       "2  \" Thank you. [Operator Instructions] Our first...    MMM   \n",
       "3  \" [Operator instructions]  Our first question ...    MMM   \n",
       "4  \" [Operator Instructions] Our first question c...    MMM   \n",
       "\n",
       "                                             Remarks  \n",
       "0  \" Ladies and gentlemen, thank you for standing...  \n",
       "1  \" Ladies and gentlemen, thank you for standing...  \n",
       "2  \" Ladies and gentlemen, thank you for standing...  \n",
       "3  \" Ladies and gentlemen, thank you for standing...  \n",
       "4  \" Ladies and gentlemen, thank you for standing...  "
      ]
     },
     "execution_count": 2,
     "metadata": {},
     "output_type": "execute_result"
    }
   ],
   "source": [
    "df = pd.read_csv(r\"D:\\Google Drive\\Current\\Capstone\\Transcript_Extract_Sections.csv\")[:5]\n",
    "df.head()"
   ]
  },
  {
   "cell_type": "markdown",
   "metadata": {},
   "source": [
    "# QA by column"
   ]
  },
  {
   "cell_type": "code",
   "execution_count": 3,
   "metadata": {
    "scrolled": true
   },
   "outputs": [
    {
     "name": "stdout",
     "output_type": "stream",
     "text": [
      "Total time taken for performing QA: 10.69 mins\n"
     ]
    }
   ],
   "source": [
    "st = time.time()\n",
    "qa = QuestionAnswering(\"What drives revenue growth?\")\n",
    "qa.get_answer(df, ['QA', 'Remarks'])\n",
    "print(\"Total time taken for performing QA:\", round((time.time() - st)/60, 2), \"mins\")"
   ]
  },
  {
   "cell_type": "code",
   "execution_count": 4,
   "metadata": {
    "scrolled": false
   },
   "outputs": [
    {
     "data": {
      "text/html": [
       "<div>\n",
       "<style scoped>\n",
       "    .dataframe tbody tr th:only-of-type {\n",
       "        vertical-align: middle;\n",
       "    }\n",
       "\n",
       "    .dataframe tbody tr th {\n",
       "        vertical-align: top;\n",
       "    }\n",
       "\n",
       "    .dataframe thead th {\n",
       "        text-align: right;\n",
       "    }\n",
       "</style>\n",
       "<table border=\"1\" class=\"dataframe\">\n",
       "  <thead>\n",
       "    <tr style=\"text-align: right;\">\n",
       "      <th></th>\n",
       "      <th>Title</th>\n",
       "      <th>Date</th>\n",
       "      <th>QA</th>\n",
       "      <th>Ticker</th>\n",
       "      <th>Remarks</th>\n",
       "      <th>QA_answers</th>\n",
       "      <th>Remarks_answers</th>\n",
       "    </tr>\n",
       "  </thead>\n",
       "  <tbody>\n",
       "    <tr>\n",
       "      <th>0</th>\n",
       "      <td>3M Company (MMM) CEO Michael Roman on Q1 2021 ...</td>\n",
       "      <td>Apr. 27, 2021 5:54 PM ET</td>\n",
       "      <td>\" [Operator Instructions] Our first question c...</td>\n",
       "      <td>MMM</td>\n",
       "      <td>\" Ladies and gentlemen, thank you for standing...</td>\n",
       "      <td>(volume, 0.1313, m mechanically. That's a grea...</td>\n",
       "      <td>(8%, 0.6449, . Please turn to slide 5. Company...</td>\n",
       "    </tr>\n",
       "    <tr>\n",
       "      <th>1</th>\n",
       "      <td>3M Company's (MMM) CEO Mike Roman on Q4 2020 R...</td>\n",
       "      <td>Jan. 26, 2021 5:33 PM ET</td>\n",
       "      <td>\" [Operator Instructions] Our first question c...</td>\n",
       "      <td>MMM</td>\n",
       "      <td>\" Ladies and gentlemen, thank you for standing...</td>\n",
       "      <td>(how revenue comes across, 0.5632,  we're look...</td>\n",
       "      <td>(Organic volume growth, along with our ongoing...</td>\n",
       "    </tr>\n",
       "    <tr>\n",
       "      <th>2</th>\n",
       "      <td>3M Company (MMM) CEO Mike Roman on Q3 2020 Res...</td>\n",
       "      <td>Oct. 27, 2020 3:54 PM ET</td>\n",
       "      <td>\" Thank you. [Operator Instructions] Our first...</td>\n",
       "      <td>MMM</td>\n",
       "      <td>\" Ladies and gentlemen, thank you for standing...</td>\n",
       "      <td>(respirator sales, 0.141, obably too early to ...</td>\n",
       "      <td>(1%, 0.1654, o $8.4 billion, slightly above ou...</td>\n",
       "    </tr>\n",
       "    <tr>\n",
       "      <th>3</th>\n",
       "      <td>3M (MMM) CEO, Michael Roman on Q2 2020 Results...</td>\n",
       "      <td>Jul. 28, 2020 1:03 PM ET</td>\n",
       "      <td>\" [Operator instructions]  Our first question ...</td>\n",
       "      <td>MMM</td>\n",
       "      <td>\" Ladies and gentlemen, thank you for standing...</td>\n",
       "      <td>(R&amp;D, 0.7671, To reiterate capital allocation,...</td>\n",
       "      <td>(homecare business, 0.1531, c growth for our c...</td>\n",
       "    </tr>\n",
       "    <tr>\n",
       "      <th>4</th>\n",
       "      <td>3M Company (MMM) CEO Mike Roman on Q1 2020 Res...</td>\n",
       "      <td>Apr. 28, 2020 3:08 PM ET</td>\n",
       "      <td>\" [Operator Instructions] Our first question c...</td>\n",
       "      <td>MMM</td>\n",
       "      <td>\" Ladies and gentlemen, thank you for standing...</td>\n",
       "      <td>(divestiture impact from our gas and flame det...</td>\n",
       "      <td>(strong demand for respirators, 0.0072, with t...</td>\n",
       "    </tr>\n",
       "  </tbody>\n",
       "</table>\n",
       "</div>"
      ],
      "text/plain": [
       "                                               Title  \\\n",
       "0  3M Company (MMM) CEO Michael Roman on Q1 2021 ...   \n",
       "1  3M Company's (MMM) CEO Mike Roman on Q4 2020 R...   \n",
       "2  3M Company (MMM) CEO Mike Roman on Q3 2020 Res...   \n",
       "3  3M (MMM) CEO, Michael Roman on Q2 2020 Results...   \n",
       "4  3M Company (MMM) CEO Mike Roman on Q1 2020 Res...   \n",
       "\n",
       "                       Date  \\\n",
       "0  Apr. 27, 2021 5:54 PM ET   \n",
       "1  Jan. 26, 2021 5:33 PM ET   \n",
       "2  Oct. 27, 2020 3:54 PM ET   \n",
       "3  Jul. 28, 2020 1:03 PM ET   \n",
       "4  Apr. 28, 2020 3:08 PM ET   \n",
       "\n",
       "                                                  QA Ticker  \\\n",
       "0  \" [Operator Instructions] Our first question c...    MMM   \n",
       "1  \" [Operator Instructions] Our first question c...    MMM   \n",
       "2  \" Thank you. [Operator Instructions] Our first...    MMM   \n",
       "3  \" [Operator instructions]  Our first question ...    MMM   \n",
       "4  \" [Operator Instructions] Our first question c...    MMM   \n",
       "\n",
       "                                             Remarks  \\\n",
       "0  \" Ladies and gentlemen, thank you for standing...   \n",
       "1  \" Ladies and gentlemen, thank you for standing...   \n",
       "2  \" Ladies and gentlemen, thank you for standing...   \n",
       "3  \" Ladies and gentlemen, thank you for standing...   \n",
       "4  \" Ladies and gentlemen, thank you for standing...   \n",
       "\n",
       "                                          QA_answers  \\\n",
       "0  (volume, 0.1313, m mechanically. That's a grea...   \n",
       "1  (how revenue comes across, 0.5632,  we're look...   \n",
       "2  (respirator sales, 0.141, obably too early to ...   \n",
       "3  (R&D, 0.7671, To reiterate capital allocation,...   \n",
       "4  (divestiture impact from our gas and flame det...   \n",
       "\n",
       "                                     Remarks_answers  \n",
       "0  (8%, 0.6449, . Please turn to slide 5. Company...  \n",
       "1  (Organic volume growth, along with our ongoing...  \n",
       "2  (1%, 0.1654, o $8.4 billion, slightly above ou...  \n",
       "3  (homecare business, 0.1531, c growth for our c...  \n",
       "4  (strong demand for respirators, 0.0072, with t...  "
      ]
     },
     "execution_count": 4,
     "metadata": {},
     "output_type": "execute_result"
    }
   ],
   "source": [
    "df.head()"
   ]
  },
  {
   "cell_type": "markdown",
   "metadata": {},
   "source": [
    "# QA by string"
   ]
  },
  {
   "cell_type": "code",
   "execution_count": 5,
   "metadata": {
    "scrolled": true
   },
   "outputs": [],
   "source": [
    "text = df['Remarks'][0]"
   ]
  },
  {
   "cell_type": "code",
   "execution_count": 6,
   "metadata": {},
   "outputs": [
    {
     "name": "stdout",
     "output_type": "stream",
     "text": [
      "\" Ladies and gentlemen, thank you for standing by. Welcome to the 3M First Quarter Earnings Conference Call. During the presentation, all participants will be in a listen-only mode. Afterwards, we will conduct a question-and-answer session. [Operator Instructions] As a reminder, this conference is being recorded Tuesday, April 27, 2021.  I would now like to turn the call over to Bruce Jermeland, Senior Vice President of Investor Relations at 3M.  Thank you, and good morning, everyone. And welcome to our First Quarter Earnings Conference Call. With me today are Michael Roman, 3M's Chairman and Chief Executive Officer; Monish Patolawala, our Chief Financial Officer; along with John Banovetz, our Chief Technology Officer. John is joining us today to discuss our new sustainability goals which we introduced in February. Mike, Monish, and John will make some formal comments, then we'll take your questions.  Please note that today's earnings release and slide presentation accompanying this call are posted on our Investor Relations website at 3m.com under the heading Quarterly Earnings.  Please turn to slide 2. Before we begin, let me remind you of the dates for our upcoming 2021 quarterly earnings conference calls which will be held on July 27 and October 26.  Please take a moment to read the forward-looking statement on slide 3. During today's conference call, we will make certain predictive statements that reflect our current views about 3M's future performance and financial results. These statements are based on certain assumptions and expectations of future events that are subject to risks and uncertainties. Item 1A of our most recent Form 10-K lists some of the most important risk factors that could cause actual results to differ from our predictions.  Please note, throughout today's presentation we will be making references to certain non-GAAP financial measures. Reconciliations of the non-GAAP measures can be found in the attachments to today's press release.  And finally, as previously disclosed in our Form 8-K dated March 22, 2021, 3M changed its accounting principle for pension and post-retirement plan cost and our measure of segment operating performance. The information provided herein reflects the impact of these changes for all time periods presented.  Please turn to slide 4, and I'll now hand it off to Mike. Mike?  Thank you, Bruce. Good morning, everyone, and thank you for joining us.  The first quarter was strong for 3M with broad-based organic growth across all business groups and geographic areas. Our team executed well and posted record sales, robust cash flow, and expanded margins along with a double digit increase in earnings per share. We saw encouraging improvement in many of our end markets, while others remained well below pre-pandemic levels.  We also faced and addressed ongoing supply chain disruptions due to COVID-19, exacerbated by improving macroeconomic trends and Winter Storm Uri, all of which are increasing the cost of doing business. I am proud of the way 3Mers have stepped up to manage and overcome these challenges, keeping our factories running, expanding our manufacturing capacity, and driving innovation for our customers across our businesses. We have found new ways to engage with customers and create solutions no matter where we are around the world, learnings we will take forward as we come out of the pandemic.  Looking ahead, we expect continued strengthening of the global economy, though we anticipate the recovery to be uneven as the trajectory of the pandemic, roll-out of vaccines, and government policies evolve in different stages around the world. We are confident in our business as we navigate COVID-19 uncertainty, and with one quarter behind us, we are maintaining our full year guidance for organic growth, earnings per share, and cash flow. Our team remains focused on driving growth, improving operational performance, and delivering for our customers and shareholders.  Please turn to slide 5. Company-wide total sales increased to $8.9 billion with organic growth of 8% and earnings of $2.77 per share up 27% year on year on an adjusted basis. Geographically, organic growth was led by Asia-Pacific up 13% with China up 32%. Growth in the Americas was 6% with the United States up 7%, while EMEA grew 6%. We expanded our adjusted EBITDA margins to nearly 28% with all business groups above 23% and increased free cash flow to $1.4 billion with a conversion rate of 86%.  3M increased our dividend in the first quarter, marking our 63rd straight year of increases. We also continue to build 3M for the long term and prioritize investments in growth, productivity, and sustainability. While we manage end market challenges related to COVID-19, we are investing to capitalize on global growth opportunities in healthcare, electronics, home improvement, personal safety, and other favorable market trends.  This includes our priority growth platforms which grew 10% in the quarter as we apply science to advanced growing areas like automotive electrification and biopharma filtration. The fundamental strengths of 3M, our unique technology platforms, advanced manufacturing, global capabilities, and leading brands position us well to win in these markets into the future.  We are accelerating digital strategies across 3M and expanding our use of data and data analytics to better serve our customers and improve performance. For example, we are using new cloud-based technologies to provide better insights into our global workflows from raw material purchase through product delivery which is helping us navigate the current supply chain challenges. We are stepping up our leadership in sustainability with significant new commitments that will bend the curve on carbon emissions, water use, and improving water quality.  In a similar way, we are implementing a long term plan to advance equity and inclusion as we launch new scholarship programs and a new goal to create 5 million opportunities in STEM education, with initial efforts focused here in the Twin Cities. At the same time, 3M continues to help lead the fight against COVID-19 with 630 million respirators distributed in the first quarter. We are also providing our expertise as we engage with the Biden administration and governments around the world on how to better prepare for future pandemics.  Overall, I am pleased with our performance in the first quarter as we remain focused on driving growth, improving productivity, and advancing sustainability.  To provide additional insight on that last point, sustainability, I will now turn it over to 3M's Chief Technology Officer, John.  John?  Thank you, Mike. Good morning, everyone, and please turn to slide 6. I'm proud to lead 3M's research and development and sustainability teams. Every day, we bring our innovation to bear on tough challenges, which includes applying 3M science to create a more efficient company and a more sustainable world.  As you may have seen, in February we announced expanded sustainability goals. We plan to commit approximately $1 billion over the next 20 years through both capital and operating investments to make our operations more efficient and effective with a focus on air, water, and waste.  First, we are committing to become carbon-neutral across our global operations. We expect to rapidly bend our curve of emissions with 2019 as our baseline and aggressive milestones along the way: 50% reduction by 2030, 80% by 2040, and 100% by 2050. Second, 3M plans to reduce water use at our facilities by 25% over the next decade, targeting a 10% reduction by 2022 and 20% reduction by 2025.  Third, at our largest locations, we are taking action and installing advanced filtration technology that will return even higher quality water to the environment after its use in our operations. These goals are driven by science and a clearly defined path. We have identified the investments and technologies that will enable our success from thermal oxidizers to reverse osmosis, and work is already underway.  At 3M's facility in Antwerp, for example, we have expanded our thermal oxidizer system and reduced our carbon emissions by 1 million tons per year. Overall, our thermal oxidizers reduce our carbon footprint by more than 90% when fully installed. And in Decatur, Alabama, we have implemented a water treatment system with granular activated carbon, also known as a GAC system that has improved the quality of water we return to the environment by 90%. We intend to add complementary technology that will further improve water quality by 2024.  We will continue to advance new state of the art technologies including through partnerships with customers, governments, communities, and others to further accelerate our progress. Our actions demonstrate 3M's commitment to continuous improvement and our ongoing work to advance our environmental stewardship. Over the last two decades, 3M has reduced our emissions by 70% while doubling revenues. Our headquarters is fully powered by renewable electricity, and 40% of 3M's global electricity use is now renewable; on our way to 100%.  Every new 3M product includes a sustainability value commitment, and over the last five years, our innovations have helped customers avoid 75 million tons of emissions. And just last week we committed to reduce our use of new plastic made from petroleum, also known as virgin fossil-based plastic, by 125 million pounds by 2025 through new packaging and innovative product design in our Consumer business.  We recognize the urgency of the world's climate and environmental challenges and are focused on making a difference both today and in future generations. I encourage you to read our annual sustainability report to be released in early May for more details on our progress and priorities.  Please turn to slide 7, and I'll turn it over to Monish.  Monish?  Thank you, John, and I wish you all a very good morning. Company-wide first quarter sales were $8.9 billion, up 9.6% year on year or an increase of 8% on an organic basis. Sales growth combined with operating rigor and disciplined cost management drove adjusted operating income of $2 billion, up 19%, with adjusted operating margins of 22.5%, up 170 basis points year on year. First quarter GAAP and adjusted earnings per share were $2.77, up 27% compared to last year's adjusted results.  On this slide, you can see the components that impacted both margins and earnings per share. Organic volume growth along with our ongoing cost management and productivity efforts were the biggest contributors to first quarter operating margins and earnings, adding 150 basis points to margins and $0.34 to earnings per share year on year.  Turning to selling prices and raw materials, as Mike mentioned, we experienced increasing cost particularly for raw materials and logistics due to the impacts on the strengthening end markets, ongoing COVID pandemic, along with Winter Storm Uri. As a result, first quarter net selling price and raw materials performance reduced both operating margins and earnings per share by 20 basis points and $0.01, respectively.  In our view, we expect global supply chain dynamics to remain fluid and for raw material and logistics headwinds to persist. Therefore, we now anticipate a full year raw materials and logistics headwind of $0.30 to $0.50 per share versus a prior expectation of flat to a $0.10 headwind at the start of the year.  Looking at the second quarter, we currently anticipate a net selling price and raw materials headwinds to operating margin in the range of 75 to 125 basis points. We are taking multiple actions to address these increased headwinds including price increases, global sourcing efforts, improving yields in our factories, and ongoing demand planning given the dynamic environment. We expect these actions will gain traction as we move through the year, particularly in the second half.  Moving to divestiture impacts, the lost income from the drug delivery divestiture in May of last year was neutral to margins, however, was a $0.03 headwind year on year to earnings. Foreign currency net of hedging impacts added 40 of basis points to margins and $0.13 to earnings per share as the U.S. dollar weakened against most major currencies year on year. We continue to expect foreign exchange to be an earnings benefit of $0.15 per share for the full year.  Three other non-operating items impacted our year on year earnings per share performance. First, our continued strong cash flow and liquidity position give us the opportunity in Q1 to redeem an additional $450 million of debt early that was due to mature in 2022. As a result, we incurred higher net interest expense of approximately $0.02 per share versus Q1 last year. This impact was more than offset by year on year non-operating pension benefit of $0.05 per share. Combined, these items resulted in lower net non-operating expense of $0.03 per share versus last year's first quarter.  Secondly, a lower tax rate versus last year provided a $0.14 benefit to earnings per share. The lower tax rate was primarily a function of non-repeating favorable adjustments related to U.S. tax treatment of international income along with regional income mix and equity based compensation. Our full year 2021 tax rate expectations remain unchanged in the range of 20% to 21%. Finally, average diluted shares were up 1% year on year which reduced per share earnings by $0.02.  Please turn to slide 8 for a discussion of our cash flow and balance sheet. We delivered another quarter of robust free cash flow with first quarter adjusted free cash flow of $1.4 billion, up 49% year on year, with conversion of 86%. Cash flows in the quarter were primarily driven by robust growth in cash flow from operations along with our ongoing daily management of working capital. First quarter capital expenditures were $310 million. For the full year, we continue to expect CapEx to be in the range of $1.8 billion to $2 billion.  During the quarter, we returned $1.1 billion to shareholders through the combination of cash dividends of $858 million and share repurchases of $231 million. Our strong cash flow generation and disciplined capital allocation enabled us to continue to strengthen our capital structure.  We ended the quarter with $13 billion in net debt, a reduction of nearly $5 billion since the end of Q1 last year. As a result, our net debt to EBITDA ratio has declined significantly from 2.2 a year ago to 1.4 at the end of Q1. Our net debt position along with our strong cash flow generation capability continues to provide us financial flexibility to invest in our business, pursue strategic opportunities, and return cash to shareholders while maintaining a strong capital structure.  Please turn to slide 9 where I will summarize the business group performance for Q1. I will start with our Safety and Industrial business which posted organic growth of 10.3% year on year in the first quarter. This result includes a 6.4 percentage point benefit from pandemic-related respirator demand. Looking ahead, we continue to anticipate strong pandemic-related respirator mask demand. However, the year on year contribution to sales growth will decline as we lap last year's quarterly comparison.  Overall, general Industrial manufacturing activity continued to improve during Q1, resulting in a pick-up in growth across the portfolio. Personal Safety posted double digit organic growth year on year driven by ongoing demand for respirators. Industrial adhesives and tables grew low-double digits primarily due to strong demand across Industrial and Electronics end markets. The continued strength in the residential housing market drove good performance in our roofing granules business which was up double digits organically versus Q1 of last year.  Turning to the rest of the Safety and Industrial businesses, Automotive Aftermarket grew high-single digits organically, the Electrical Markets business was up mid-single digits, and Abrasives grew low-single digits while our Closure and Masking business declined year on year.  Safety and Industrials first quarter segment operating margin were 24.4% up 70 basis points year on year. Operating margins were driven by leverage on sales growth which was partially offset by increase in raw materials, logistics, and legal costs.  Moving to Transportation and Electronics, which delivered a strong start to the year with first quarter organic sales, growth of 9.8% despite the well-known semiconductor supply chain constraints, our Electronics-related business was up high-teens organically with continued strength in semiconductor, factory automation, and data centers along with strong demand for consumer electronic devices, namely tablets and TVs. Our Auto OEM business was up 21% year on year compared to the 14% increase in global car and light truck builds.  Looking ahead, we continue to monitor the global semiconductor supply chain and its potential impact on the electronics and automotive industries. Turning to Advanced Materials, which increased mid-single digits largely as a result of the year on year increase in automotive builds and finally, our Transportation Safety business was flat year on year while Commercial Solutions declined slightly.  Transportation and Electronics first quarter operating margin were 23.3%, up 260 of basis points year on year, benefiting from strong leverage on sales growth and prior-year COVID-related asset write-downs which were partially offset by increases in raw materials and logistics costs.  Turning to our Healthcare business, healthcare providers continue to be challenged from the ebbs and flows of COVID-19 cases as elective procedure volume still remains significantly below pre-pandemic levels. At the same time, we continue to experience strong pandemic-related demand for respirators to protect frontline healthcare workers which more than offset the headwinds from the decline in elective procedure volumes. As a result, our Healthcare business delivered first quarter organic sales growth of 9.3% versus last year.  The Medical Solutions business grew high-single digits driven by continued strong respirator demand. Excluding respirators, organic growth in this business was down low-single digits due to the ongoing year on year impact of low procedure volumes. Organic sales for our Oral Care business increased double digits year on year. This result is primarily due to last year's COVID related comp as dental offices started closing their doors during Q1 last year.  The Separation and Purification business increased low-teens year on year. This business continues to experience solid demand for biopharma filtration solutions for COVID-related vaccines and therapeutic development and manufacturing along with improving demand trends for water filtration solutions. Health Information Systems returned to positive organic growth, up mid-single digits, while Food Safety declined mid-single digits organically versus last year's strong comparison.  Healthcare's first quarter operating margins were 22.7%, up 120 basis points year on year. First quarter margins were driven by leverage on sales growth which was partially offset by supply chain disruption and increasing raw materials and logistics costs.  Lastly, first quarter organic growth for our Consumer business was 7.8% year on year with strength across most retail channels led by e-commerce. Organic sales growth continued to be led by the Home Improvement business, up double digits organically driven by strong demand for Command adhesives, Filtrete air quality solutions, and ScotchBlue painter's tape.  Stationery and Office returned to positive organic growth in Q1, up mid-single digits, with ongoing strength in consumer demand for packaging and shipping products. This business also delivered improved growth in Scotch brand office tapes, as we start to lap the COVID-related impacts from remote work and school trends.  And finally, our Home Care business was up low-single digits organically versus last year's strong comparison. Consumer's operating margins were 21.1%, or similar to last year, as leverage on sales growth was offset by increasing costs for raw materials, logistics, outsourced hard goods manufacturing, and increased investments in advertising and merchandising.  Please turn to slide 10 for a discussion of our full year 2021 guidance.  As you can see from our Q1 results, we are off to a good start to the year. Looking ahead, as Mike mentioned, we expect continued strengthening of the global economy along with increasing opportunities in end markets with favorable trends. However, we foresee that the improvement will remain fluid and uneven as we go through 2021 given the ongoing impact of the pandemic.  As a result, we anticipate a number of items that will need to be navigated as we go through the year. For example, starting with evolving impacts from COVID including respirator, demand, healthcare, elective procedures, supply chains, shutdowns, and government response. Next, the continued constrained supply of semiconductor chips and related impacts to consumer electronics and automotive OEM production. In addition, the expected increase in costs for raw materials and logistics and in some cases constrained availability.  And finally, we expect to increase investments through the year in growth, productivity, and sustainability along with managing ongoing legal costs as PFAS and other legal proceedings progress. Thus, taking these items into account, along with it being early in the year, we think it prudent to maintain our full year guidance of 3% to 6% organic growth, earnings per share of $9.20 of to $9.70, and free cash flow conversion of 95% to 105%.  Turning to the second quarter, let me highlight a few items of note. First, we expect continued strong execution by the 3M team in the face of a very fluid and uncertain environment. As I mentioned during my remarks, we have increased the expected headwind from raw materials and logistics for the full year.  We are taking several actions including increasing selling prices to address these headwinds as we go through the year. These actions will take a little time to gain traction. Therefore, we anticipate a second quarter year on year operating margin headwind of 75 basis points to 125 basis points from selling prices net of higher raw materials and logistics costs.  And finally, we expect a pretax restructuring charge in the range of $25 million to $50 million as we continue our actions related to our December 2020 announcement.  To wrap up, we are off to a good start for the year delivering broad based growth, strong operational execution, and robust cash flows. We are prioritizing capital to opportunities for growth, productivity, and sustainability while focused on delivering for our customers, improving operating rigor, and enhancing daily management.  With that, I thank you for your attention, and we will now take your questions. \"\n"
     ]
    }
   ],
   "source": [
    "print(text)"
   ]
  },
  {
   "cell_type": "code",
   "execution_count": 7,
   "metadata": {},
   "outputs": [
    {
     "name": "stdout",
     "output_type": "stream",
     "text": [
      "Total time taken for performing QA: 0.83 mins\n"
     ]
    }
   ],
   "source": [
    "st = time.time()\n",
    "qa = QuestionAnswering(\"What drives revenue growth?\")\n",
    "answers = qa._answering(text)\n",
    "print(\"Total time taken for performing QA:\", round((time.time() - st)/60, 2), \"mins\")"
   ]
  },
  {
   "cell_type": "code",
   "execution_count": 8,
   "metadata": {
    "scrolled": false
   },
   "outputs": [
    {
     "data": {
      "text/plain": [
       "('8%',\n",
       " 0.6449,\n",
       " '. Please turn to slide 5. Company-wide total sales increased to $8.9 billion with organic growth of 8% and earnings of $2.77 per share up 27% year on year on an adjusted basis. Geographically, organic g')"
      ]
     },
     "execution_count": 8,
     "metadata": {},
     "output_type": "execute_result"
    }
   ],
   "source": [
    "answers"
   ]
  },
  {
   "cell_type": "code",
   "execution_count": 9,
   "metadata": {},
   "outputs": [
    {
     "name": "stdout",
     "output_type": "stream",
     "text": [
      "Total time taken for performing QA: 0.82 mins\n"
     ]
    }
   ],
   "source": [
    "st = time.time()\n",
    "qa = QuestionAnswering(\"Who are your major competitors?\")\n",
    "answers = qa._answering(text)\n",
    "print(\"Total time taken for performing QA:\", round((time.time() - st)/60, 2), \"mins\")"
   ]
  },
  {
   "cell_type": "code",
   "execution_count": 10,
   "metadata": {},
   "outputs": [
    {
     "data": {
      "text/plain": [
       "('3M',\n",
       " 0.0086,\n",
       " 'rowing areas like automotive electrification and biopharma filtration. The fundamental strengths of 3M, our unique technology platforms, advanced manufacturing, global capabilities, and leading brands p')"
      ]
     },
     "execution_count": 10,
     "metadata": {},
     "output_type": "execute_result"
    }
   ],
   "source": [
    "answers"
   ]
  }
 ],
 "metadata": {
  "kernelspec": {
   "display_name": "Python 3",
   "language": "python",
   "name": "python3"
  },
  "language_info": {
   "codemirror_mode": {
    "name": "ipython",
    "version": 3
   },
   "file_extension": ".py",
   "mimetype": "text/x-python",
   "name": "python",
   "nbconvert_exporter": "python",
   "pygments_lexer": "ipython3",
   "version": "3.8.5"
  }
 },
 "nbformat": 4,
 "nbformat_minor": 4
}
