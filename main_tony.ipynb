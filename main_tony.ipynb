{
 "cells": [
  {
   "cell_type": "code",
   "execution_count": 1,
   "metadata": {},
   "outputs": [],
   "source": [
    "import time\n",
    "import pandas as pd\n",
    "from src.transpipeline import QuestionAnswering"
   ]
  },
  {
   "cell_type": "code",
   "execution_count": 2,
   "metadata": {
    "scrolled": false
   },
   "outputs": [
    {
     "data": {
      "text/html": [
       "<div>\n",
       "<style scoped>\n",
       "    .dataframe tbody tr th:only-of-type {\n",
       "        vertical-align: middle;\n",
       "    }\n",
       "\n",
       "    .dataframe tbody tr th {\n",
       "        vertical-align: top;\n",
       "    }\n",
       "\n",
       "    .dataframe thead th {\n",
       "        text-align: right;\n",
       "    }\n",
       "</style>\n",
       "<table border=\"1\" class=\"dataframe\">\n",
       "  <thead>\n",
       "    <tr style=\"text-align: right;\">\n",
       "      <th></th>\n",
       "      <th>Title</th>\n",
       "      <th>Date</th>\n",
       "      <th>QA</th>\n",
       "      <th>Ticker</th>\n",
       "      <th>Remarks</th>\n",
       "    </tr>\n",
       "  </thead>\n",
       "  <tbody>\n",
       "    <tr>\n",
       "      <th>0</th>\n",
       "      <td>3M Company (MMM) CEO Michael Roman on Q1 2021 ...</td>\n",
       "      <td>Apr. 27, 2021 5:54 PM ET</td>\n",
       "      <td>\" [Operator Instructions] Our first question c...</td>\n",
       "      <td>MMM</td>\n",
       "      <td>\" Ladies and gentlemen, thank you for standing...</td>\n",
       "    </tr>\n",
       "    <tr>\n",
       "      <th>1</th>\n",
       "      <td>3M Company's (MMM) CEO Mike Roman on Q4 2020 R...</td>\n",
       "      <td>Jan. 26, 2021 5:33 PM ET</td>\n",
       "      <td>\" [Operator Instructions] Our first question c...</td>\n",
       "      <td>MMM</td>\n",
       "      <td>\" Ladies and gentlemen, thank you for standing...</td>\n",
       "    </tr>\n",
       "    <tr>\n",
       "      <th>2</th>\n",
       "      <td>3M Company (MMM) CEO Mike Roman on Q3 2020 Res...</td>\n",
       "      <td>Oct. 27, 2020 3:54 PM ET</td>\n",
       "      <td>\" Thank you. [Operator Instructions] Our first...</td>\n",
       "      <td>MMM</td>\n",
       "      <td>\" Ladies and gentlemen, thank you for standing...</td>\n",
       "    </tr>\n",
       "    <tr>\n",
       "      <th>3</th>\n",
       "      <td>3M (MMM) CEO, Michael Roman on Q2 2020 Results...</td>\n",
       "      <td>Jul. 28, 2020 1:03 PM ET</td>\n",
       "      <td>\" [Operator instructions]  Our first question ...</td>\n",
       "      <td>MMM</td>\n",
       "      <td>\" Ladies and gentlemen, thank you for standing...</td>\n",
       "    </tr>\n",
       "    <tr>\n",
       "      <th>4</th>\n",
       "      <td>3M Company (MMM) CEO Mike Roman on Q1 2020 Res...</td>\n",
       "      <td>Apr. 28, 2020 3:08 PM ET</td>\n",
       "      <td>\" [Operator Instructions] Our first question c...</td>\n",
       "      <td>MMM</td>\n",
       "      <td>\" Ladies and gentlemen, thank you for standing...</td>\n",
       "    </tr>\n",
       "  </tbody>\n",
       "</table>\n",
       "</div>"
      ],
      "text/plain": [
       "                                               Title  \\\n",
       "0  3M Company (MMM) CEO Michael Roman on Q1 2021 ...   \n",
       "1  3M Company's (MMM) CEO Mike Roman on Q4 2020 R...   \n",
       "2  3M Company (MMM) CEO Mike Roman on Q3 2020 Res...   \n",
       "3  3M (MMM) CEO, Michael Roman on Q2 2020 Results...   \n",
       "4  3M Company (MMM) CEO Mike Roman on Q1 2020 Res...   \n",
       "\n",
       "                       Date  \\\n",
       "0  Apr. 27, 2021 5:54 PM ET   \n",
       "1  Jan. 26, 2021 5:33 PM ET   \n",
       "2  Oct. 27, 2020 3:54 PM ET   \n",
       "3  Jul. 28, 2020 1:03 PM ET   \n",
       "4  Apr. 28, 2020 3:08 PM ET   \n",
       "\n",
       "                                                  QA Ticker  \\\n",
       "0  \" [Operator Instructions] Our first question c...    MMM   \n",
       "1  \" [Operator Instructions] Our first question c...    MMM   \n",
       "2  \" Thank you. [Operator Instructions] Our first...    MMM   \n",
       "3  \" [Operator instructions]  Our first question ...    MMM   \n",
       "4  \" [Operator Instructions] Our first question c...    MMM   \n",
       "\n",
       "                                             Remarks  \n",
       "0  \" Ladies and gentlemen, thank you for standing...  \n",
       "1  \" Ladies and gentlemen, thank you for standing...  \n",
       "2  \" Ladies and gentlemen, thank you for standing...  \n",
       "3  \" Ladies and gentlemen, thank you for standing...  \n",
       "4  \" Ladies and gentlemen, thank you for standing...  "
      ]
     },
     "execution_count": 2,
     "metadata": {},
     "output_type": "execute_result"
    }
   ],
   "source": [
    "df = pd.read_csv(r\"D:\\Google Drive\\Current\\Capstone\\Transcript_Extract_Sections.csv\")[:5]\n",
    "df.head()"
   ]
  },
  {
   "cell_type": "markdown",
   "metadata": {},
   "source": [
    "# QA by column"
   ]
  },
  {
   "cell_type": "code",
   "execution_count": 3,
   "metadata": {
    "scrolled": true
   },
   "outputs": [
    {
     "name": "stdout",
     "output_type": "stream",
     "text": [
      "Total time taken for performing QA: 9.93 mins\n"
     ]
    }
   ],
   "source": [
    "st = time.time()\n",
    "qa = QuestionAnswering(\"What drives revenue growth?\")\n",
    "qa.get_answer(df, ['QA', 'Remarks'])\n",
    "print(\"Total time taken for performing QA:\", round((time.time() - st)/60, 2), \"mins\")"
   ]
  },
  {
   "cell_type": "code",
   "execution_count": 4,
   "metadata": {
    "scrolled": false
   },
   "outputs": [
    {
     "data": {
      "text/html": [
       "<div>\n",
       "<style scoped>\n",
       "    .dataframe tbody tr th:only-of-type {\n",
       "        vertical-align: middle;\n",
       "    }\n",
       "\n",
       "    .dataframe tbody tr th {\n",
       "        vertical-align: top;\n",
       "    }\n",
       "\n",
       "    .dataframe thead th {\n",
       "        text-align: right;\n",
       "    }\n",
       "</style>\n",
       "<table border=\"1\" class=\"dataframe\">\n",
       "  <thead>\n",
       "    <tr style=\"text-align: right;\">\n",
       "      <th></th>\n",
       "      <th>Title</th>\n",
       "      <th>Date</th>\n",
       "      <th>QA</th>\n",
       "      <th>Ticker</th>\n",
       "      <th>Remarks</th>\n",
       "      <th>QA_answers</th>\n",
       "      <th>Remarks_answers</th>\n",
       "    </tr>\n",
       "  </thead>\n",
       "  <tbody>\n",
       "    <tr>\n",
       "      <th>0</th>\n",
       "      <td>3M Company (MMM) CEO Michael Roman on Q1 2021 ...</td>\n",
       "      <td>Apr. 27, 2021 5:54 PM ET</td>\n",
       "      <td>\" [Operator Instructions] Our first question c...</td>\n",
       "      <td>MMM</td>\n",
       "      <td>\" Ladies and gentlemen, thank you for standing...</td>\n",
       "      <td>(volume, 0.1313, m mechanically. That's a grea...</td>\n",
       "      <td>(8%, 0.6449, . Please turn to slide 5. Company...</td>\n",
       "    </tr>\n",
       "    <tr>\n",
       "      <th>1</th>\n",
       "      <td>3M Company's (MMM) CEO Mike Roman on Q4 2020 R...</td>\n",
       "      <td>Jan. 26, 2021 5:33 PM ET</td>\n",
       "      <td>\" [Operator Instructions] Our first question c...</td>\n",
       "      <td>MMM</td>\n",
       "      <td>\" Ladies and gentlemen, thank you for standing...</td>\n",
       "      <td>(how revenue comes across, 0.5632,  we're look...</td>\n",
       "      <td>(Organic volume growth, along with our ongoing...</td>\n",
       "    </tr>\n",
       "    <tr>\n",
       "      <th>2</th>\n",
       "      <td>3M Company (MMM) CEO Mike Roman on Q3 2020 Res...</td>\n",
       "      <td>Oct. 27, 2020 3:54 PM ET</td>\n",
       "      <td>\" Thank you. [Operator Instructions] Our first...</td>\n",
       "      <td>MMM</td>\n",
       "      <td>\" Ladies and gentlemen, thank you for standing...</td>\n",
       "      <td>(respirator sales, 0.141, obably too early to ...</td>\n",
       "      <td>(1%, 0.1654, o $8.4 billion, slightly above ou...</td>\n",
       "    </tr>\n",
       "    <tr>\n",
       "      <th>3</th>\n",
       "      <td>3M (MMM) CEO, Michael Roman on Q2 2020 Results...</td>\n",
       "      <td>Jul. 28, 2020 1:03 PM ET</td>\n",
       "      <td>\" [Operator instructions]  Our first question ...</td>\n",
       "      <td>MMM</td>\n",
       "      <td>\" Ladies and gentlemen, thank you for standing...</td>\n",
       "      <td>(R&amp;D, 0.7671, To reiterate capital allocation,...</td>\n",
       "      <td>(homecare business, 0.1531, c growth for our c...</td>\n",
       "    </tr>\n",
       "    <tr>\n",
       "      <th>4</th>\n",
       "      <td>3M Company (MMM) CEO Mike Roman on Q1 2020 Res...</td>\n",
       "      <td>Apr. 28, 2020 3:08 PM ET</td>\n",
       "      <td>\" [Operator Instructions] Our first question c...</td>\n",
       "      <td>MMM</td>\n",
       "      <td>\" Ladies and gentlemen, thank you for standing...</td>\n",
       "      <td>(divestiture impact from our gas and flame det...</td>\n",
       "      <td>(strong demand for respirators, 0.0072, with t...</td>\n",
       "    </tr>\n",
       "  </tbody>\n",
       "</table>\n",
       "</div>"
      ],
      "text/plain": [
       "                                               Title  \\\n",
       "0  3M Company (MMM) CEO Michael Roman on Q1 2021 ...   \n",
       "1  3M Company's (MMM) CEO Mike Roman on Q4 2020 R...   \n",
       "2  3M Company (MMM) CEO Mike Roman on Q3 2020 Res...   \n",
       "3  3M (MMM) CEO, Michael Roman on Q2 2020 Results...   \n",
       "4  3M Company (MMM) CEO Mike Roman on Q1 2020 Res...   \n",
       "\n",
       "                       Date  \\\n",
       "0  Apr. 27, 2021 5:54 PM ET   \n",
       "1  Jan. 26, 2021 5:33 PM ET   \n",
       "2  Oct. 27, 2020 3:54 PM ET   \n",
       "3  Jul. 28, 2020 1:03 PM ET   \n",
       "4  Apr. 28, 2020 3:08 PM ET   \n",
       "\n",
       "                                                  QA Ticker  \\\n",
       "0  \" [Operator Instructions] Our first question c...    MMM   \n",
       "1  \" [Operator Instructions] Our first question c...    MMM   \n",
       "2  \" Thank you. [Operator Instructions] Our first...    MMM   \n",
       "3  \" [Operator instructions]  Our first question ...    MMM   \n",
       "4  \" [Operator Instructions] Our first question c...    MMM   \n",
       "\n",
       "                                             Remarks  \\\n",
       "0  \" Ladies and gentlemen, thank you for standing...   \n",
       "1  \" Ladies and gentlemen, thank you for standing...   \n",
       "2  \" Ladies and gentlemen, thank you for standing...   \n",
       "3  \" Ladies and gentlemen, thank you for standing...   \n",
       "4  \" Ladies and gentlemen, thank you for standing...   \n",
       "\n",
       "                                          QA_answers  \\\n",
       "0  (volume, 0.1313, m mechanically. That's a grea...   \n",
       "1  (how revenue comes across, 0.5632,  we're look...   \n",
       "2  (respirator sales, 0.141, obably too early to ...   \n",
       "3  (R&D, 0.7671, To reiterate capital allocation,...   \n",
       "4  (divestiture impact from our gas and flame det...   \n",
       "\n",
       "                                     Remarks_answers  \n",
       "0  (8%, 0.6449, . Please turn to slide 5. Company...  \n",
       "1  (Organic volume growth, along with our ongoing...  \n",
       "2  (1%, 0.1654, o $8.4 billion, slightly above ou...  \n",
       "3  (homecare business, 0.1531, c growth for our c...  \n",
       "4  (strong demand for respirators, 0.0072, with t...  "
      ]
     },
     "execution_count": 4,
     "metadata": {},
     "output_type": "execute_result"
    }
   ],
   "source": [
    "df.head()"
   ]
  },
  {
   "cell_type": "markdown",
   "metadata": {},
   "source": [
    "# QA by string"
   ]
  },
  {
   "cell_type": "code",
   "execution_count": 5,
   "metadata": {
    "scrolled": true
   },
   "outputs": [],
   "source": [
    "text = df['Remarks'][3]"
   ]
  },
  {
   "cell_type": "code",
   "execution_count": 6,
   "metadata": {},
   "outputs": [
    {
     "name": "stdout",
     "output_type": "stream",
     "text": [
      "\" Ladies and gentlemen, thank you for standing by. Welcome to the 3M second quarter earnings conference call. During the presentation, all participants will be in a listen-only mode. Afterwards, we wi\n"
     ]
    }
   ],
   "source": [
    "print(text[:200])"
   ]
  },
  {
   "cell_type": "code",
   "execution_count": 7,
   "metadata": {},
   "outputs": [
    {
     "name": "stdout",
     "output_type": "stream",
     "text": [
      "Total time taken for performing QA: 0.81 mins\n"
     ]
    }
   ],
   "source": [
    "st = time.time()\n",
    "qa = QuestionAnswering(\"What drives revenue growth?\")\n",
    "answers = qa._answering(text)\n",
    "print(\"Total time taken for performing QA:\", round((time.time() - st)/60, 2), \"mins\")"
   ]
  },
  {
   "cell_type": "code",
   "execution_count": 8,
   "metadata": {
    "scrolled": false
   },
   "outputs": [
    {
     "data": {
      "text/plain": [
       "('homecare business',\n",
       " 0.1531,\n",
       " 'c growth for our consumer business was down 5%. Organic sales growth within consumer was led by our homecare business up high single digits, along with home improvement which was up low single digits. Growth in these ')"
      ]
     },
     "execution_count": 8,
     "metadata": {},
     "output_type": "execute_result"
    }
   ],
   "source": [
    "answers"
   ]
  },
  {
   "cell_type": "code",
   "execution_count": 9,
   "metadata": {},
   "outputs": [
    {
     "name": "stdout",
     "output_type": "stream",
     "text": [
      "Total time taken for performing QA: 0.8 mins\n"
     ]
    }
   ],
   "source": [
    "st = time.time()\n",
    "qa = QuestionAnswering(\"Who are your major competitors?\")\n",
    "answers = qa._answering(text)\n",
    "print(\"Total time taken for performing QA:\", round((time.time() - st)/60, 2), \"mins\")"
   ]
  },
  {
   "cell_type": "code",
   "execution_count": 10,
   "metadata": {},
   "outputs": [
    {
     "data": {
      "text/plain": [
       "('dental elective procedures, automotive OEM and aftermarket, and general industrial',\n",
       " 0.3461,\n",
       " 'e same time, we experienced steep but expected declines in other end markets, including medical and dental elective procedures, automotive OEM and aftermarket, and general industrial. Geographically, while organic sales in Asia Pacific declined 8%, we saw year-over-year improvement')"
      ]
     },
     "execution_count": 10,
     "metadata": {},
     "output_type": "execute_result"
    }
   ],
   "source": [
    "answers"
   ]
  }
 ],
 "metadata": {
  "kernelspec": {
   "display_name": "Python 3",
   "language": "python",
   "name": "python3"
  },
  "language_info": {
   "codemirror_mode": {
    "name": "ipython",
    "version": 3
   },
   "file_extension": ".py",
   "mimetype": "text/x-python",
   "name": "python",
   "nbconvert_exporter": "python",
   "pygments_lexer": "ipython3",
   "version": "3.8.5"
  }
 },
 "nbformat": 4,
 "nbformat_minor": 4
}
